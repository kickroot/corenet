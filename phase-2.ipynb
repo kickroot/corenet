version https://git-lfs.github.com/spec/v1
oid sha256:54977926709ddd97d73d38d76d45be0918251f4df6e31d6d2ade4860d7af5925
size 10812
