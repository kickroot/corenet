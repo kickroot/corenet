version https://git-lfs.github.com/spec/v1
oid sha256:09b165b074635796ec3fe46048d7412c5e71fa3149b7c63a67e9c38479aefe49
size 39795
