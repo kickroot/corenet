version https://git-lfs.github.com/spec/v1
oid sha256:bffdd99155edaee19de4e94f13aeb88068901e17df3e69d91c9a4a530af492fe
size 150884
